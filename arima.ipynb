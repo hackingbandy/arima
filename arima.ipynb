{
 "cells": [
  {
   "cell_type": "markdown",
   "metadata": {},
   "source": [
    "# What is ARIMA?  \n",
    "## Auto-Regressive Integrated Moving Average  \n",
    "is a general class of statistical models for time series analysis forecasting  \n",
    "ARIMA uses the historical data to predict the future.  \n",
    "\n",
    "__ASSUMPTION__:  \n",
    "the time series has its statistical properties remain constant across time. So it is data without a trend and with a constant mean value. (normal temperature)\n",
    "\n",
    "__three components__:  \n",
    ">AR + I + MA (p,d,q)  \n",
    "> - (Auto-Regressive): _time series is linearly regressed on its own past values_  \n",
    "> - (Integrated): _time series can be differenced to become stationary if its not (compute the difference between consecutive observations)_  \n",
    "> - (Moving Average): _time series is regressed on the past forecast errors (past values predict future values)_"
   ]
  },
  {
   "cell_type": "code",
   "execution_count": 1,
   "metadata": {},
   "outputs": [
    {
     "name": "stdout",
     "output_type": "stream",
     "text": [
      "hello\n"
     ]
    }
   ],
   "source": [
    "print(\"hello\")"
   ]
  }
 ],
 "metadata": {
  "kernelspec": {
   "display_name": "env_test",
   "language": "python",
   "name": "python3"
  },
  "language_info": {
   "codemirror_mode": {
    "name": "ipython",
    "version": 3
   },
   "file_extension": ".py",
   "mimetype": "text/x-python",
   "name": "python",
   "nbconvert_exporter": "python",
   "pygments_lexer": "ipython3",
   "version": "3.12.7"
  }
 },
 "nbformat": 4,
 "nbformat_minor": 2
}
